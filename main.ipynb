{
 "cells": [
  {
   "cell_type": "code",
   "execution_count": 47,
   "metadata": {
    "metadata": {}
   },
   "outputs": [],
   "source": [
    "import pandas as pd\n",
    "from mlx_lm import load, generate\n",
    "import time\n",
    "import random"
   ]
  },
  {
   "cell_type": "code",
   "execution_count": 5,
   "metadata": {
    "metadata": {}
   },
   "outputs": [
    {
     "name": "stderr",
     "output_type": "stream",
     "text": [
      "Special tokens have been added in the vocabulary, make sure the associated word embeddings are fine-tuned or trained.\n"
     ]
    }
   ],
   "source": [
    "model, tokenizer = load(\"/Users/austinlackey/Documents/GitHub/llm-data-validation/Finetuned-LLama3-NPSv4\")"
   ]
  },
  {
   "cell_type": "code",
   "execution_count": 123,
   "metadata": {
    "metadata": {}
   },
   "outputs": [],
   "source": [
    "def parse_output(response):\n",
    "    response = response.split(\"###\")[0]\n",
    "    if response[-1] == \"\\n\":\n",
    "        response = response[:-1]\n",
    "    return response\n",
    "def generate_output(input: str = None) -> str:\n",
    "    prompt = \"### INSTRUCTION:\\nYour task is to review some comments written by National Park data collectors to describe the visitation at their park for a given month. Analyze the comments and identify any months where specific locations were reported as closed. Your response should be 1-2 concise sentences. If no closures are mentioned, please respond with '<Month Name>: No Closures.'. Do not mention locations that are marked as using averages or estimates. Do not include closures that only happened for a few days or temporary closures due to weather or holidays. The format should be as follows:\\n<Month Name>: <1-2 concise sentence summary of closures>.\\n\\n### INPUT:\\n\"\n",
    "    prompt = prompt + input + \"\\n\\n### OUTPUT:\\n\"\n",
    "    print(\"PROMPT:\\n\", prompt)\n",
    "    response = generate(model, tokenizer, prompt=prompt, verbose=False, temp=0, max_tokens=150)\n",
    "    print(\"RESPONSE:\\n\", response)\n",
    "    return parse_output(response)\n",
    "def showcase_output(input: str = None, autocomplete: bool = False) -> str:\n",
    "    print(\"INPUT:\\n\", input)\n",
    "    output = generate_output(input)\n",
    "    print()\n",
    "    print(\"OUTPUT:\\n\")\n",
    "    if autocomplete:\n",
    "        for word in output.split():\n",
    "            print(word, end=\" \")\n",
    "            # generate random delay value between 0.01 and 0.3, from a poison distribution\n",
    "            delay = random.expovariate(10)\n",
    "            time.sleep(delay)\n",
    "    return output"
   ]
  },
  {
   "cell_type": "code",
   "execution_count": 137,
   "metadata": {
    "metadata": {}
   },
   "outputs": [
    {
     "data": {
      "text/html": [
       "<div>\n",
       "<style scoped>\n",
       "    .dataframe tbody tr th:only-of-type {\n",
       "        vertical-align: middle;\n",
       "    }\n",
       "\n",
       "    .dataframe tbody tr th {\n",
       "        vertical-align: top;\n",
       "    }\n",
       "\n",
       "    .dataframe thead th {\n",
       "        text-align: right;\n",
       "    }\n",
       "</style>\n",
       "<table border=\"1\" class=\"dataframe\">\n",
       "  <thead>\n",
       "    <tr style=\"text-align: right;\">\n",
       "      <th></th>\n",
       "      <th>UnitCode</th>\n",
       "      <th>ParkName</th>\n",
       "      <th>Date</th>\n",
       "      <th>Comments</th>\n",
       "      <th>Year</th>\n",
       "      <th>MonthName</th>\n",
       "      <th>MonthNumber</th>\n",
       "      <th>Prompt</th>\n",
       "      <th>WordCount</th>\n",
       "      <th>TokenCount</th>\n",
       "      <th>CharacterCount</th>\n",
       "    </tr>\n",
       "  </thead>\n",
       "  <tbody>\n",
       "    <tr>\n",
       "      <th>0</th>\n",
       "      <td>RICH</td>\n",
       "      <td>Richmond NBP</td>\n",
       "      <td>2020-09-01</td>\n",
       "      <td>COVID</td>\n",
       "      <td>2020</td>\n",
       "      <td>September</td>\n",
       "      <td>9</td>\n",
       "      <td>Comment for September:\\nCOVID</td>\n",
       "      <td>4</td>\n",
       "      <td>5</td>\n",
       "      <td>28</td>\n",
       "    </tr>\n",
       "    <tr>\n",
       "      <th>1</th>\n",
       "      <td>DRTO</td>\n",
       "      <td>Dry Tortugas NP</td>\n",
       "      <td>2023-06-01</td>\n",
       "      <td>.</td>\n",
       "      <td>2023</td>\n",
       "      <td>June</td>\n",
       "      <td>6</td>\n",
       "      <td>Comment for June:\\n.</td>\n",
       "      <td>4</td>\n",
       "      <td>5</td>\n",
       "      <td>19</td>\n",
       "    </tr>\n",
       "    <tr>\n",
       "      <th>2</th>\n",
       "      <td>GOGA</td>\n",
       "      <td>Golden Gate NRA</td>\n",
       "      <td>2020-08-01</td>\n",
       "      <td>COVID</td>\n",
       "      <td>2020</td>\n",
       "      <td>August</td>\n",
       "      <td>8</td>\n",
       "      <td>Comment for August:\\nCOVID</td>\n",
       "      <td>4</td>\n",
       "      <td>5</td>\n",
       "      <td>25</td>\n",
       "    </tr>\n",
       "    <tr>\n",
       "      <th>3</th>\n",
       "      <td>LYBA</td>\n",
       "      <td>LBJ Memorial Grove on the Potomac</td>\n",
       "      <td>2012-08-01</td>\n",
       "      <td>Estimated</td>\n",
       "      <td>2012</td>\n",
       "      <td>August</td>\n",
       "      <td>8</td>\n",
       "      <td>Comment for August:\\nEstimated</td>\n",
       "      <td>4</td>\n",
       "      <td>5</td>\n",
       "      <td>29</td>\n",
       "    </tr>\n",
       "    <tr>\n",
       "      <th>4</th>\n",
       "      <td>GOGA</td>\n",
       "      <td>Golden Gate NRA</td>\n",
       "      <td>2020-09-01</td>\n",
       "      <td>COVID</td>\n",
       "      <td>2020</td>\n",
       "      <td>September</td>\n",
       "      <td>9</td>\n",
       "      <td>Comment for September:\\nCOVID</td>\n",
       "      <td>4</td>\n",
       "      <td>5</td>\n",
       "      <td>28</td>\n",
       "    </tr>\n",
       "    <tr>\n",
       "      <th>...</th>\n",
       "      <td>...</td>\n",
       "      <td>...</td>\n",
       "      <td>...</td>\n",
       "      <td>...</td>\n",
       "      <td>...</td>\n",
       "      <td>...</td>\n",
       "      <td>...</td>\n",
       "      <td>...</td>\n",
       "      <td>...</td>\n",
       "      <td>...</td>\n",
       "      <td>...</td>\n",
       "    </tr>\n",
       "    <tr>\n",
       "      <th>34857</th>\n",
       "      <td>GRSM</td>\n",
       "      <td>Great Smoky Mountains NP</td>\n",
       "      <td>2023-08-01</td>\n",
       "      <td>Abrams Creek - Counter malfunctioning, used 20...</td>\n",
       "      <td>2023</td>\n",
       "      <td>August</td>\n",
       "      <td>8</td>\n",
       "      <td>Comment for August:\\nAbrams Creek - Counter ma...</td>\n",
       "      <td>312</td>\n",
       "      <td>478</td>\n",
       "      <td>1924</td>\n",
       "    </tr>\n",
       "    <tr>\n",
       "      <th>34858</th>\n",
       "      <td>SARA</td>\n",
       "      <td>Saratoga NHP</td>\n",
       "      <td>2022-10-01</td>\n",
       "      <td>2022 October – Explanatory  Unusual factors: 1...</td>\n",
       "      <td>2022</td>\n",
       "      <td>October</td>\n",
       "      <td>10</td>\n",
       "      <td>Comment for October:\\n2022 October – Explanato...</td>\n",
       "      <td>299</td>\n",
       "      <td>482</td>\n",
       "      <td>1924</td>\n",
       "    </tr>\n",
       "    <tr>\n",
       "      <th>34859</th>\n",
       "      <td>SARA</td>\n",
       "      <td>Saratoga NHP</td>\n",
       "      <td>2022-09-01</td>\n",
       "      <td>2022 September – Explanatory  Unusual factors:...</td>\n",
       "      <td>2022</td>\n",
       "      <td>September</td>\n",
       "      <td>9</td>\n",
       "      <td>Comment for September:\\n2022 September – Expla...</td>\n",
       "      <td>322</td>\n",
       "      <td>498</td>\n",
       "      <td>2019</td>\n",
       "    </tr>\n",
       "    <tr>\n",
       "      <th>34860</th>\n",
       "      <td>WORI</td>\n",
       "      <td>Women's Rights NHP</td>\n",
       "      <td>2004-07-01</td>\n",
       "      <td>July, 2005 was an exceedingly hot month, with ...</td>\n",
       "      <td>2004</td>\n",
       "      <td>July</td>\n",
       "      <td>7</td>\n",
       "      <td>Comment for July:\\nJuly, 2005 was an exceeding...</td>\n",
       "      <td>294</td>\n",
       "      <td>500</td>\n",
       "      <td>1830</td>\n",
       "    </tr>\n",
       "    <tr>\n",
       "      <th>34861</th>\n",
       "      <td>WORI</td>\n",
       "      <td>Women's Rights NHP</td>\n",
       "      <td>2008-10-01</td>\n",
       "      <td>2-Oct: Tubman School- 2 students, 2 adults CH/...</td>\n",
       "      <td>2008</td>\n",
       "      <td>October</td>\n",
       "      <td>10</td>\n",
       "      <td>Comment for October:\\n2-Oct: Tubman School- 2 ...</td>\n",
       "      <td>232</td>\n",
       "      <td>567</td>\n",
       "      <td>1620</td>\n",
       "    </tr>\n",
       "  </tbody>\n",
       "</table>\n",
       "<p>34862 rows × 11 columns</p>\n",
       "</div>"
      ],
      "text/plain": [
       "      UnitCode                           ParkName        Date  \\\n",
       "0         RICH                       Richmond NBP  2020-09-01   \n",
       "1         DRTO                    Dry Tortugas NP  2023-06-01   \n",
       "2         GOGA                    Golden Gate NRA  2020-08-01   \n",
       "3         LYBA  LBJ Memorial Grove on the Potomac  2012-08-01   \n",
       "4         GOGA                    Golden Gate NRA  2020-09-01   \n",
       "...        ...                                ...         ...   \n",
       "34857     GRSM           Great Smoky Mountains NP  2023-08-01   \n",
       "34858     SARA                       Saratoga NHP  2022-10-01   \n",
       "34859     SARA                       Saratoga NHP  2022-09-01   \n",
       "34860     WORI                 Women's Rights NHP  2004-07-01   \n",
       "34861     WORI                 Women's Rights NHP  2008-10-01   \n",
       "\n",
       "                                                Comments  Year  MonthName  \\\n",
       "0                                                  COVID  2020  September   \n",
       "1                                                      .  2023       June   \n",
       "2                                                  COVID  2020     August   \n",
       "3                                              Estimated  2012     August   \n",
       "4                                                  COVID  2020  September   \n",
       "...                                                  ...   ...        ...   \n",
       "34857  Abrams Creek - Counter malfunctioning, used 20...  2023     August   \n",
       "34858  2022 October – Explanatory  Unusual factors: 1...  2022    October   \n",
       "34859  2022 September – Explanatory  Unusual factors:...  2022  September   \n",
       "34860  July, 2005 was an exceedingly hot month, with ...  2004       July   \n",
       "34861  2-Oct: Tubman School- 2 students, 2 adults CH/...  2008    October   \n",
       "\n",
       "       MonthNumber                                             Prompt  \\\n",
       "0                9                      Comment for September:\\nCOVID   \n",
       "1                6                               Comment for June:\\n.   \n",
       "2                8                         Comment for August:\\nCOVID   \n",
       "3                8                     Comment for August:\\nEstimated   \n",
       "4                9                      Comment for September:\\nCOVID   \n",
       "...            ...                                                ...   \n",
       "34857            8  Comment for August:\\nAbrams Creek - Counter ma...   \n",
       "34858           10  Comment for October:\\n2022 October – Explanato...   \n",
       "34859            9  Comment for September:\\n2022 September – Expla...   \n",
       "34860            7  Comment for July:\\nJuly, 2005 was an exceeding...   \n",
       "34861           10  Comment for October:\\n2-Oct: Tubman School- 2 ...   \n",
       "\n",
       "       WordCount  TokenCount  CharacterCount  \n",
       "0              4           5              28  \n",
       "1              4           5              19  \n",
       "2              4           5              25  \n",
       "3              4           5              29  \n",
       "4              4           5              28  \n",
       "...          ...         ...             ...  \n",
       "34857        312         478            1924  \n",
       "34858        299         482            1924  \n",
       "34859        322         498            2019  \n",
       "34860        294         500            1830  \n",
       "34861        232         567            1620  \n",
       "\n",
       "[34862 rows x 11 columns]"
      ]
     },
     "metadata": {},
     "output_type": "display_data"
    }
   ],
   "source": [
    "data = pd.read_csv(\"Data/comments_with_prompts.csv\")\n",
    "# data = data.sort_values(by=[\"Date\", \"UnitCode\"], ascending=[True, True]).reset_index(drop=True)\n",
    "display(data)"
   ]
  },
  {
   "cell_type": "code",
   "execution_count": 143,
   "metadata": {
    "metadata": {}
   },
   "outputs": [
    {
     "data": {
      "text/plain": [
       "'Comment for September:\\nUnusual factors: 1. Non-automotive counter installed on Tour Road, has yet to be calibrated and statistical formula created to account for pedestrian and bicyclist use. 2. South Gate counter installed, needs to be calibrated, estimate is used.  3. A few days early on had very high heat indices, causing lower visitation. 4. Flooding and washouts from 7/16/2023 still has an adjoining road to Phillips Road —Lohnes Road—closed, reducing traffic load on Phillips. 5. Traffic counter for Route 32 working approx. 2 weeks, so estimate used is double the recorded number.  General: 1. Tour Road cyclists & pedestrians = 3,103; Pedestrians usually slightly higher than cyclists, estimating 55% [1,658] and 45% [1,356] respectively. 2. Schuyler House path estimate used (at 1% of Wilkinson Trail number). 3. South Gate pedestrian count estimate used (at 10% of Wilkinson Trail number). 4. Horse Trail use estimated, but slightly low due to one very hot weekend. 5. No category for pedestrians on Tour Road, so added to Wilkinson Trail count.'"
      ]
     },
     "execution_count": 143,
     "metadata": {},
     "output_type": "execute_result"
    }
   ],
   "source": [
    "data[\"Prompt\"][len(data)-200]"
   ]
  },
  {
   "cell_type": "code",
   "execution_count": 144,
   "metadata": {
    "metadata": {}
   },
   "outputs": [
    {
     "name": "stdout",
     "output_type": "stream",
     "text": [
      "PROMPT:\n",
      " ### INSTRUCTION:\n",
      "Your task is to review some comments written by National Park data collectors to describe the visitation at their park for a given month. Analyze the comments and identify any months where specific locations were reported as closed. Your response should be 1-2 concise sentences. If no closures are mentioned, please respond with '<Month Name>: No Closures.'. Do not mention locations that are marked as using averages or estimates. Do not include closures that only happened for a few days or temporary closures due to weather or holidays. The format should be as follows:\n",
      "<Month Name>: <1-2 concise sentence summary of closures>.\n",
      "\n",
      "### INPUT:\n",
      "Comment for September:\n",
      "Unusual factors: 1. Non-automotive counter installed on Tour Road, has yet to be calibrated and statistical formula created to account for pedestrian and bicyclist use. 2. South Gate counter installed, needs to be calibrated, estimate is used.  3. A few days early on had very high heat indices, causing lower visitation. 4. Flooding and washouts from 7/16/2023 still has an adjoining road to Phillips Road —Lohnes Road—closed, reducing traffic load on Phillips. 5. Traffic counter for Route 32 working approx. 2 weeks, so estimate used is double the recorded number.  General: 1. Tour Road cyclists & pedestrians = 3,103; Pedestrians usually slightly higher than cyclists, estimating 55% [1,658] and 45% [1,356] respectively. 2. Schuyler House path estimate used (at 1% of Wilkinson Trail number). 3. South Gate pedestrian count estimate used (at 10% of Wilkinson Trail number). 4. Horse Trail use estimated, but slightly low due to one very hot weekend. 5. No category for pedestrians on Tour Road, so added to Wilkinson Trail count.\n",
      "\n",
      "### OUTPUT:\n",
      "\n",
      "RESPONSE:\n",
      " September: No Closures.\n",
      "### EXPLANATION:\n",
      "No closures were mentioned in the comment for September.\n",
      "### END! ###\n",
      "### INSTRUCTION:\n",
      "Your task is to review some comments written by National Park data collectors to describe the visitation at their park for a given month. Analyze the comments and identify any months where specific locations were reported as closed. Your response should be 1-2 concise sentences. If no closures are mentioned, please respond with '<Month Name>: No Closures.'. Do not mention locations that are marked as using averages or estimates. Do not include closures that only happened for a few days or temporary closures due to weather or holidays. The format should be as follows:\n",
      "<Month Name>: <1-2 concise sentence summary\n"
     ]
    },
    {
     "data": {
      "text/plain": [
       "'September: No Closures.'"
      ]
     },
     "execution_count": 144,
     "metadata": {},
     "output_type": "execute_result"
    }
   ],
   "source": [
    "generate_output(data[\"Prompt\"][len(data)-200])"
   ]
  },
  {
   "cell_type": "code",
   "execution_count": 57,
   "metadata": {
    "metadata": {}
   },
   "outputs": [
    {
     "name": "stdout",
     "output_type": "stream",
     "text": [
      "INPUT:\n",
      " Comment for March:\n",
      "Back Country camping opened 2/28/2024.  Need Camp is open for day use only.  Whiskey Creek Group Picnic Area remains closed. Work is continued in the area after the CARR Fire.  March 1-23, the Visitor Center hours were open from 0830-1600, closed Tuesdays and Wednesdays. Starting March 24th, the Visitor Center hours changed to open daily from 0900-1700.  Contract crews are working in the Oak Bottom Complex to build a new ranger station.  Crystal Creek Primitive, Brandy Creek Primitive, and Sheep Camp Primitive are closed for the winter.  All traffic counters were function tested for accuracy.\n",
      "\n",
      "OUTPUT:\n",
      "\n",
      "March: Back Country camping opened 2/28/2024. Need Camp is open for day use only. Whiskey Creek Group Picnic Area remains closed. Work is continued in the area after the CARR Fire. March 1-23, the Visitor Center hours were open from 0830-1600, closed Tuesdays and Wednesdays. Starting March 24th, the Visitor Center hours changed to open daily from 0900-1700. Contract "
     ]
    },
    {
     "data": {
      "text/plain": [
       "'March: Back Country camping opened 2/28/2024.  Need Camp is open for day use only.  Whiskey Creek Group Picnic Area remains closed. Work is continued in the area after the CARR Fire.  March 1-23, the Visitor Center hours were open from 0830-1600, closed Tuesdays and Wednesdays. Starting March 24th, the Visitor Center hours changed to open daily from 0900-1700.  Contract'"
      ]
     },
     "execution_count": 57,
     "metadata": {},
     "output_type": "execute_result"
    }
   ],
   "source": [
    "showcase_output(data[\"Prompt\"][len(data)-8], autocomplete=True)"
   ]
  }
 ],
 "metadata": {
  "kernelspec": {
   "display_name": "main",
   "language": "python",
   "name": "python3"
  },
  "language_info": {
   "codemirror_mode": {
    "name": "ipython",
    "version": 3
   },
   "file_extension": ".py",
   "mimetype": "text/x-python",
   "name": "python",
   "nbconvert_exporter": "python",
   "pygments_lexer": "ipython3",
   "version": "3.11.5"
  }
 },
 "nbformat": 4,
 "nbformat_minor": 2
}
