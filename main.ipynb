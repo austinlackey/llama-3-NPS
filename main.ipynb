{
 "cells": [
  {
   "cell_type": "code",
   "execution_count": 1,
   "metadata": {
    "metadata": {}
   },
   "outputs": [],
   "source": [
    "import pandas as pd\n",
    "from mlx_lm import load, generate\n",
    "import time\n",
    "import random"
   ]
  },
  {
   "cell_type": "code",
   "execution_count": 2,
   "metadata": {
    "metadata": {}
   },
   "outputs": [],
   "source": [
    "def parse_output(response):\n",
    "    response = response.split(\"###\")[0]\n",
    "    if response[-1] == \"\\n\":\n",
    "        response = response[:-1]\n",
    "    return response\n",
    "def generate_output(input: str = None, verbose: bool = False, temp: float = 0.0, max_tokens: int = 150) -> str:\n",
    "    prompt = \"### INSTRUCTION:\\nYour task is to review some comments written by National Park data collectors to describe the visitation at their park for a given month. Analyze the comments and identify any months where specific locations were reported as closed. Your response should be 1-2 concise sentences. If no closures are mentioned, please respond with '<Month Name>: No Closures.'. Do not mention locations that are marked as using averages or estimates. Do not include closures that only happened for a few days or temporary closures due to weather or holidays. The format should be as follows:\\n<Month Name>: <1-2 concise sentence summary of closures>.\\n\\n### INPUT:\\n\"\n",
    "    prompt = prompt + input + \"\\n\\n### OUTPUT:\\n\"\n",
    "    if verbose:\n",
    "        print(prompt, end=\"\")\n",
    "    response = generate(model, tokenizer, prompt=prompt, verbose=False, temp=temp, max_tokens=max_tokens)\n",
    "    if verbose:\n",
    "        print(response)\n",
    "    return parse_output(response)\n",
    "def showcase_output(input: str = None, autocomplete: bool = False, temp: float = 0.0, max_tokens: int = 150):\n",
    "    print(\"INPUT:\", input)\n",
    "    output = generate_output(input, temp=temp, max_tokens=max_tokens)\n",
    "    print()\n",
    "    print(\"OUTPUT:\")\n",
    "    print(output)"
   ]
  },
  {
   "cell_type": "code",
   "execution_count": 3,
   "metadata": {
    "metadata": {}
   },
   "outputs": [
    {
     "data": {
      "text/html": [
       "<div>\n",
       "<style scoped>\n",
       "    .dataframe tbody tr th:only-of-type {\n",
       "        vertical-align: middle;\n",
       "    }\n",
       "\n",
       "    .dataframe tbody tr th {\n",
       "        vertical-align: top;\n",
       "    }\n",
       "\n",
       "    .dataframe thead th {\n",
       "        text-align: right;\n",
       "    }\n",
       "</style>\n",
       "<table border=\"1\" class=\"dataframe\">\n",
       "  <thead>\n",
       "    <tr style=\"text-align: right;\">\n",
       "      <th></th>\n",
       "      <th>UnitCode</th>\n",
       "      <th>ParkName</th>\n",
       "      <th>Date</th>\n",
       "      <th>Comments</th>\n",
       "    </tr>\n",
       "  </thead>\n",
       "  <tbody>\n",
       "    <tr>\n",
       "      <th>0</th>\n",
       "      <td>TUIN</td>\n",
       "      <td>Tuskegee Institute NHS</td>\n",
       "      <td>2004-10-01 00:00:00.000</td>\n",
       "      <td>Tuskegee University celebrated their annual ho...</td>\n",
       "    </tr>\n",
       "    <tr>\n",
       "      <th>1</th>\n",
       "      <td>MALU</td>\n",
       "      <td>Martin Luther King, Jr. NHP</td>\n",
       "      <td>2004-10-01 00:00:00.000</td>\n",
       "      <td>visitor center exhibit area and threater were ...</td>\n",
       "    </tr>\n",
       "    <tr>\n",
       "      <th>2</th>\n",
       "      <td>BIHO</td>\n",
       "      <td>Big Hole NB</td>\n",
       "      <td>2004-10-01 00:00:00.000</td>\n",
       "      <td>127th Commemoration at Bear Paw Battlefield.</td>\n",
       "    </tr>\n",
       "    <tr>\n",
       "      <th>3</th>\n",
       "      <td>ADAM</td>\n",
       "      <td>Adams NHP</td>\n",
       "      <td>2004-11-01 00:00:00.000</td>\n",
       "      <td>\\t\\tThe historic homes were closed on November...</td>\n",
       "    </tr>\n",
       "    <tr>\n",
       "      <th>4</th>\n",
       "      <td>WICR</td>\n",
       "      <td>Wilson's Creek NB</td>\n",
       "      <td>2004-11-01 00:00:00.000</td>\n",
       "      <td>Two horse riding trails were temporarily close...</td>\n",
       "    </tr>\n",
       "    <tr>\n",
       "      <th>...</th>\n",
       "      <td>...</td>\n",
       "      <td>...</td>\n",
       "      <td>...</td>\n",
       "      <td>...</td>\n",
       "    </tr>\n",
       "    <tr>\n",
       "      <th>34857</th>\n",
       "      <td>KEFJ</td>\n",
       "      <td>Kenai Fjords NP</td>\n",
       "      <td>2022-07-01 00:00:00.000</td>\n",
       "      <td>Estimate of Other Backcountry Overnight Stays ...</td>\n",
       "    </tr>\n",
       "    <tr>\n",
       "      <th>34858</th>\n",
       "      <td>VIIS</td>\n",
       "      <td>Virgin Islands NP</td>\n",
       "      <td>2022-04-01 00:00:00.000</td>\n",
       "      <td>Edited the numbers for Cinnamon Bay CG for Apr...</td>\n",
       "    </tr>\n",
       "    <tr>\n",
       "      <th>34859</th>\n",
       "      <td>CURE</td>\n",
       "      <td>Curecanti NRA</td>\n",
       "      <td>2022-07-01 00:00:00.000</td>\n",
       "      <td>Old Stevens and a few others are still giving ...</td>\n",
       "    </tr>\n",
       "    <tr>\n",
       "      <th>34860</th>\n",
       "      <td>ADAM</td>\n",
       "      <td>Adams NHP</td>\n",
       "      <td>2022-05-01 00:00:00.000</td>\n",
       "      <td>Park closed Mondays and Tuesdays; trolleys not...</td>\n",
       "    </tr>\n",
       "    <tr>\n",
       "      <th>34861</th>\n",
       "      <td>CURE</td>\n",
       "      <td>Curecanti NRA</td>\n",
       "      <td>2022-06-01 00:00:00.000</td>\n",
       "      <td>Cimarron Campground still closed due to water ...</td>\n",
       "    </tr>\n",
       "  </tbody>\n",
       "</table>\n",
       "<p>34862 rows × 4 columns</p>\n",
       "</div>"
      ],
      "text/plain": [
       "      UnitCode                     ParkName                     Date  \\\n",
       "0         TUIN       Tuskegee Institute NHS  2004-10-01 00:00:00.000   \n",
       "1         MALU  Martin Luther King, Jr. NHP  2004-10-01 00:00:00.000   \n",
       "2         BIHO                  Big Hole NB  2004-10-01 00:00:00.000   \n",
       "3         ADAM                    Adams NHP  2004-11-01 00:00:00.000   \n",
       "4         WICR            Wilson's Creek NB  2004-11-01 00:00:00.000   \n",
       "...        ...                          ...                      ...   \n",
       "34857     KEFJ              Kenai Fjords NP  2022-07-01 00:00:00.000   \n",
       "34858     VIIS            Virgin Islands NP  2022-04-01 00:00:00.000   \n",
       "34859     CURE                Curecanti NRA  2022-07-01 00:00:00.000   \n",
       "34860     ADAM                    Adams NHP  2022-05-01 00:00:00.000   \n",
       "34861     CURE                Curecanti NRA  2022-06-01 00:00:00.000   \n",
       "\n",
       "                                                Comments  \n",
       "0      Tuskegee University celebrated their annual ho...  \n",
       "1      visitor center exhibit area and threater were ...  \n",
       "2           127th Commemoration at Bear Paw Battlefield.  \n",
       "3      \\t\\tThe historic homes were closed on November...  \n",
       "4      Two horse riding trails were temporarily close...  \n",
       "...                                                  ...  \n",
       "34857  Estimate of Other Backcountry Overnight Stays ...  \n",
       "34858  Edited the numbers for Cinnamon Bay CG for Apr...  \n",
       "34859  Old Stevens and a few others are still giving ...  \n",
       "34860  Park closed Mondays and Tuesdays; trolleys not...  \n",
       "34861  Cimarron Campground still closed due to water ...  \n",
       "\n",
       "[34862 rows x 4 columns]"
      ]
     },
     "execution_count": 3,
     "metadata": {},
     "output_type": "execute_result"
    }
   ],
   "source": [
    "data = pd.read_csv(\"Data/comments.csv\")\n",
    "data"
   ]
  },
  {
   "cell_type": "code",
   "execution_count": 4,
   "metadata": {
    "metadata": {}
   },
   "outputs": [
    {
     "data": {
      "text/plain": [
       "'1993-01-01 00:00:00.000'"
      ]
     },
     "execution_count": 4,
     "metadata": {},
     "output_type": "execute_result"
    }
   ],
   "source": [
    "data[\"Date\"].min()"
   ]
  },
  {
   "cell_type": "code",
   "execution_count": 4,
   "metadata": {
    "metadata": {}
   },
   "outputs": [
    {
     "data": {
      "text/html": [
       "<div>\n",
       "<style scoped>\n",
       "    .dataframe tbody tr th:only-of-type {\n",
       "        vertical-align: middle;\n",
       "    }\n",
       "\n",
       "    .dataframe tbody tr th {\n",
       "        vertical-align: top;\n",
       "    }\n",
       "\n",
       "    .dataframe thead th {\n",
       "        text-align: right;\n",
       "    }\n",
       "</style>\n",
       "<table border=\"1\" class=\"dataframe\">\n",
       "  <thead>\n",
       "    <tr style=\"text-align: right;\">\n",
       "      <th></th>\n",
       "      <th>UnitCode</th>\n",
       "      <th>ParkName</th>\n",
       "      <th>Date</th>\n",
       "      <th>Comments</th>\n",
       "      <th>Year</th>\n",
       "      <th>MonthName</th>\n",
       "      <th>MonthNumber</th>\n",
       "      <th>Prompt</th>\n",
       "      <th>WordCount</th>\n",
       "      <th>TokenCount</th>\n",
       "      <th>CharacterCount</th>\n",
       "    </tr>\n",
       "  </thead>\n",
       "  <tbody>\n",
       "    <tr>\n",
       "      <th>0</th>\n",
       "      <td>RICH</td>\n",
       "      <td>Richmond NBP</td>\n",
       "      <td>2020-09-01</td>\n",
       "      <td>COVID</td>\n",
       "      <td>2020</td>\n",
       "      <td>September</td>\n",
       "      <td>9</td>\n",
       "      <td>Comment for September:\\nCOVID</td>\n",
       "      <td>4</td>\n",
       "      <td>5</td>\n",
       "      <td>28</td>\n",
       "    </tr>\n",
       "    <tr>\n",
       "      <th>1</th>\n",
       "      <td>DRTO</td>\n",
       "      <td>Dry Tortugas NP</td>\n",
       "      <td>2023-06-01</td>\n",
       "      <td>.</td>\n",
       "      <td>2023</td>\n",
       "      <td>June</td>\n",
       "      <td>6</td>\n",
       "      <td>Comment for June:\\n.</td>\n",
       "      <td>4</td>\n",
       "      <td>5</td>\n",
       "      <td>19</td>\n",
       "    </tr>\n",
       "    <tr>\n",
       "      <th>2</th>\n",
       "      <td>GOGA</td>\n",
       "      <td>Golden Gate NRA</td>\n",
       "      <td>2020-08-01</td>\n",
       "      <td>COVID</td>\n",
       "      <td>2020</td>\n",
       "      <td>August</td>\n",
       "      <td>8</td>\n",
       "      <td>Comment for August:\\nCOVID</td>\n",
       "      <td>4</td>\n",
       "      <td>5</td>\n",
       "      <td>25</td>\n",
       "    </tr>\n",
       "    <tr>\n",
       "      <th>3</th>\n",
       "      <td>LYBA</td>\n",
       "      <td>LBJ Memorial Grove on the Potomac</td>\n",
       "      <td>2012-08-01</td>\n",
       "      <td>Estimated</td>\n",
       "      <td>2012</td>\n",
       "      <td>August</td>\n",
       "      <td>8</td>\n",
       "      <td>Comment for August:\\nEstimated</td>\n",
       "      <td>4</td>\n",
       "      <td>5</td>\n",
       "      <td>29</td>\n",
       "    </tr>\n",
       "    <tr>\n",
       "      <th>4</th>\n",
       "      <td>GOGA</td>\n",
       "      <td>Golden Gate NRA</td>\n",
       "      <td>2020-09-01</td>\n",
       "      <td>COVID</td>\n",
       "      <td>2020</td>\n",
       "      <td>September</td>\n",
       "      <td>9</td>\n",
       "      <td>Comment for September:\\nCOVID</td>\n",
       "      <td>4</td>\n",
       "      <td>5</td>\n",
       "      <td>28</td>\n",
       "    </tr>\n",
       "    <tr>\n",
       "      <th>...</th>\n",
       "      <td>...</td>\n",
       "      <td>...</td>\n",
       "      <td>...</td>\n",
       "      <td>...</td>\n",
       "      <td>...</td>\n",
       "      <td>...</td>\n",
       "      <td>...</td>\n",
       "      <td>...</td>\n",
       "      <td>...</td>\n",
       "      <td>...</td>\n",
       "      <td>...</td>\n",
       "    </tr>\n",
       "    <tr>\n",
       "      <th>34857</th>\n",
       "      <td>GRSM</td>\n",
       "      <td>Great Smoky Mountains NP</td>\n",
       "      <td>2023-08-01</td>\n",
       "      <td>Abrams Creek - Counter malfunctioning, used 20...</td>\n",
       "      <td>2023</td>\n",
       "      <td>August</td>\n",
       "      <td>8</td>\n",
       "      <td>Comment for August:\\nAbrams Creek - Counter ma...</td>\n",
       "      <td>312</td>\n",
       "      <td>478</td>\n",
       "      <td>1924</td>\n",
       "    </tr>\n",
       "    <tr>\n",
       "      <th>34858</th>\n",
       "      <td>SARA</td>\n",
       "      <td>Saratoga NHP</td>\n",
       "      <td>2022-10-01</td>\n",
       "      <td>2022 October – Explanatory  Unusual factors: 1...</td>\n",
       "      <td>2022</td>\n",
       "      <td>October</td>\n",
       "      <td>10</td>\n",
       "      <td>Comment for October:\\n2022 October – Explanato...</td>\n",
       "      <td>299</td>\n",
       "      <td>482</td>\n",
       "      <td>1924</td>\n",
       "    </tr>\n",
       "    <tr>\n",
       "      <th>34859</th>\n",
       "      <td>SARA</td>\n",
       "      <td>Saratoga NHP</td>\n",
       "      <td>2022-09-01</td>\n",
       "      <td>2022 September – Explanatory  Unusual factors:...</td>\n",
       "      <td>2022</td>\n",
       "      <td>September</td>\n",
       "      <td>9</td>\n",
       "      <td>Comment for September:\\n2022 September – Expla...</td>\n",
       "      <td>322</td>\n",
       "      <td>498</td>\n",
       "      <td>2019</td>\n",
       "    </tr>\n",
       "    <tr>\n",
       "      <th>34860</th>\n",
       "      <td>WORI</td>\n",
       "      <td>Women's Rights NHP</td>\n",
       "      <td>2004-07-01</td>\n",
       "      <td>July, 2005 was an exceedingly hot month, with ...</td>\n",
       "      <td>2004</td>\n",
       "      <td>July</td>\n",
       "      <td>7</td>\n",
       "      <td>Comment for July:\\nJuly, 2005 was an exceeding...</td>\n",
       "      <td>294</td>\n",
       "      <td>500</td>\n",
       "      <td>1830</td>\n",
       "    </tr>\n",
       "    <tr>\n",
       "      <th>34861</th>\n",
       "      <td>WORI</td>\n",
       "      <td>Women's Rights NHP</td>\n",
       "      <td>2008-10-01</td>\n",
       "      <td>2-Oct: Tubman School- 2 students, 2 adults CH/...</td>\n",
       "      <td>2008</td>\n",
       "      <td>October</td>\n",
       "      <td>10</td>\n",
       "      <td>Comment for October:\\n2-Oct: Tubman School- 2 ...</td>\n",
       "      <td>232</td>\n",
       "      <td>567</td>\n",
       "      <td>1620</td>\n",
       "    </tr>\n",
       "  </tbody>\n",
       "</table>\n",
       "<p>34862 rows × 11 columns</p>\n",
       "</div>"
      ],
      "text/plain": [
       "      UnitCode                           ParkName        Date  \\\n",
       "0         RICH                       Richmond NBP  2020-09-01   \n",
       "1         DRTO                    Dry Tortugas NP  2023-06-01   \n",
       "2         GOGA                    Golden Gate NRA  2020-08-01   \n",
       "3         LYBA  LBJ Memorial Grove on the Potomac  2012-08-01   \n",
       "4         GOGA                    Golden Gate NRA  2020-09-01   \n",
       "...        ...                                ...         ...   \n",
       "34857     GRSM           Great Smoky Mountains NP  2023-08-01   \n",
       "34858     SARA                       Saratoga NHP  2022-10-01   \n",
       "34859     SARA                       Saratoga NHP  2022-09-01   \n",
       "34860     WORI                 Women's Rights NHP  2004-07-01   \n",
       "34861     WORI                 Women's Rights NHP  2008-10-01   \n",
       "\n",
       "                                                Comments  Year  MonthName  \\\n",
       "0                                                  COVID  2020  September   \n",
       "1                                                      .  2023       June   \n",
       "2                                                  COVID  2020     August   \n",
       "3                                              Estimated  2012     August   \n",
       "4                                                  COVID  2020  September   \n",
       "...                                                  ...   ...        ...   \n",
       "34857  Abrams Creek - Counter malfunctioning, used 20...  2023     August   \n",
       "34858  2022 October – Explanatory  Unusual factors: 1...  2022    October   \n",
       "34859  2022 September – Explanatory  Unusual factors:...  2022  September   \n",
       "34860  July, 2005 was an exceedingly hot month, with ...  2004       July   \n",
       "34861  2-Oct: Tubman School- 2 students, 2 adults CH/...  2008    October   \n",
       "\n",
       "       MonthNumber                                             Prompt  \\\n",
       "0                9                      Comment for September:\\nCOVID   \n",
       "1                6                               Comment for June:\\n.   \n",
       "2                8                         Comment for August:\\nCOVID   \n",
       "3                8                     Comment for August:\\nEstimated   \n",
       "4                9                      Comment for September:\\nCOVID   \n",
       "...            ...                                                ...   \n",
       "34857            8  Comment for August:\\nAbrams Creek - Counter ma...   \n",
       "34858           10  Comment for October:\\n2022 October – Explanato...   \n",
       "34859            9  Comment for September:\\n2022 September – Expla...   \n",
       "34860            7  Comment for July:\\nJuly, 2005 was an exceeding...   \n",
       "34861           10  Comment for October:\\n2-Oct: Tubman School- 2 ...   \n",
       "\n",
       "       WordCount  TokenCount  CharacterCount  \n",
       "0              4           5              28  \n",
       "1              4           5              19  \n",
       "2              4           5              25  \n",
       "3              4           5              29  \n",
       "4              4           5              28  \n",
       "...          ...         ...             ...  \n",
       "34857        312         478            1924  \n",
       "34858        299         482            1924  \n",
       "34859        322         498            2019  \n",
       "34860        294         500            1830  \n",
       "34861        232         567            1620  \n",
       "\n",
       "[34862 rows x 11 columns]"
      ]
     },
     "metadata": {},
     "output_type": "display_data"
    }
   ],
   "source": [
    "data = pd.read_csv(\"Data/comments_with_prompts.csv\")\n",
    "# data = data.sort_values(by=[\"Date\", \"UnitCode\"], ascending=[True, True]).reset_index(drop=True)\n",
    "display(data)"
   ]
  },
  {
   "cell_type": "markdown",
   "metadata": {},
   "source": [
    "# Model v5"
   ]
  },
  {
   "cell_type": "code",
   "execution_count": 6,
   "metadata": {
    "metadata": {}
   },
   "outputs": [
    {
     "name": "stderr",
     "output_type": "stream",
     "text": [
      "Special tokens have been added in the vocabulary, make sure the associated word embeddings are fine-tuned or trained.\n"
     ]
    }
   ],
   "source": [
    "model_path = \"/Users/austinlackey/Documents/GitHub/llm-data-validation/Finetuned-Models/Llama-3-8B-NPSClosures-v5\"\n",
    "model, tokenizer = load(model_path)"
   ]
  },
  {
   "cell_type": "markdown",
   "metadata": {},
   "source": [
    "# Example 1"
   ]
  },
  {
   "cell_type": "code",
   "execution_count": 7,
   "metadata": {
    "metadata": {}
   },
   "outputs": [
    {
     "name": "stdout",
     "output_type": "stream",
     "text": [
      "Comment for July:\n",
      "1.) BAIS Ranger left position at beginning of the month. 2.) MIIN has had broken HVAC/air conditioning since June. Idaho has seen record number of days at temps of high 90s-100s; prolonged heat wave has resulted in MIIN Visitor Center closing 3 to 4.5 hours early to mitigate heat exhaustion amongst staff and visitors. 3.) Yellowstone temporarily closed due to severe flooding and, even after reopening, has seen decreased visitation due to cancelled travel plans or potential visitors not knowing that the park is open. A significant portion of MIIN visitation comes from the traffic between YELL and the Pacific Northwest, so MIIN visitation may have similarly decreased. 4.) A large portion of MIIN visitors are semi/retired RV travelers; MIIN visitation may have decreased due to high cost of gas throughout the summer (national average $5.00+).  BAIS -- Estimated with a 10% decrease from July BAIS FY22 assumed from the lack of BAIS Ranger during the month of July. Bainbridge Island Japanese American Exclusion Memorial people counters have been broken since 03/2021. MIIN staff based out of Idaho and not able to easily make fixes to BAIS in WA state. The memorial is collectively cared for by the Bainbridge Island Japanese American Exclusion Memorial Association, the Bainbridge Island Japanese American Community, the Bainbridge Island Historical Museum, Bainbridge Island Parks & Recreation District and the Klondike Gold Rush National Historical Park - Seattle.\n"
     ]
    }
   ],
   "source": [
    "comment1 = data[\"Prompt\"][len(data)-100]\n",
    "print(comment1)"
   ]
  },
  {
   "cell_type": "code",
   "execution_count": 8,
   "metadata": {
    "metadata": {}
   },
   "outputs": [
    {
     "data": {
      "text/plain": [
       "'July: MIIN Visitor Center closed 3 to 4.5 hours early due to heat exhaustion; Yellowstone temporarily closed due to severe flooding; MIIN visitation may have decreased due to high cost of gas and cancelled travel plans.'"
      ]
     },
     "execution_count": 8,
     "metadata": {},
     "output_type": "execute_result"
    }
   ],
   "source": [
    "generate_output(comment1, verbose=False, temp=0.0)"
   ]
  },
  {
   "cell_type": "markdown",
   "metadata": {},
   "source": [
    "# Example 2"
   ]
  },
  {
   "cell_type": "code",
   "execution_count": 10,
   "metadata": {
    "metadata": {}
   },
   "outputs": [
    {
     "name": "stdout",
     "output_type": "stream",
     "text": [
      "Comment for July:\n",
      "July, 2005 was an exceedingly hot month, with a few days that broke records.  High heat in the mid to upper 90s with 70 to 80% humidity resulting in a high heat index.  The excesive heat may have been responsible for lower vistation numbers at the Elizabeth Cady Stanton House, which is not air conditioned.  The staff at the information desk is careful to inform visitors of this fact on hot days, so that those who have trouble with the heat may make an informed decision on whether or not to take the tour.   4-Jul: Special Event-Reading of the Declaration of Sentiments- 9 10-Jul: AAVW- 13, chapel, film, exhibits, Stanton 11-Jul: Syracuse University- 52 15-Jul: Methodist Center- 20 17-Jul: Women's (Democratic Politicians) Event in Chapel 10:10-10:40 am (Samara Barend for Congress)- 10; Women's Rights Convention Dramatization- 150, 2pm; Fix Air Conditioning!!! 19-Jul: Camp Wanepee- 13 20-Jul: Fix Air Conditioning on 1st Floor!! Had a few complaints from guests. 21-Jul: Rochester Int'l Council \"Women as political and economic leaders\"- 8 countries from Africa, 10am-film, 10:30-Chapel, exhibits (afternoon hall of fame) 1:30 Stanton, 11 adults 22-Jul: Fix Air Conditioning, have had several complaints; S.B. Anthony House- 10; Women's Center- 20 23-Jul: Marcus Whitman Elem.- 38 students 7 adults, PS, Chapel, Statue, film, VC 24-Jul: Musical program and Brenda Berkman talk- 60 people at concert, 100 at Berkman; 64 for ice cream 25-Jul: Special musical program- 31 26-Jul: Rain all day, soaked and soggy 27-Jul: Dundee Youth Center- 14 28-Jul: Partridge Womens Center- 21 women, 1pm 30-Jul: Jessica's Last Day! 31-Jul: Friendly Home Recreation Department- 30  Adult Group Visitors online listed 98, but it doesn’t show up on printed stats. I added it to the notes. IRMA says 1 bus, but not on paper.\n"
     ]
    }
   ],
   "source": [
    "comment2 = data[\"Prompt\"][len(data)-2]\n",
    "print(comment2)"
   ]
  },
  {
   "cell_type": "code",
   "execution_count": 11,
   "metadata": {
    "metadata": {}
   },
   "outputs": [
    {
     "data": {
      "text/plain": [
       "'July: No Closures.'"
      ]
     },
     "execution_count": 11,
     "metadata": {},
     "output_type": "execute_result"
    }
   ],
   "source": [
    "generate_output(comment2, verbose=False, temp=0.0)"
   ]
  },
  {
   "cell_type": "markdown",
   "metadata": {},
   "source": [
    "# Example 3:"
   ]
  },
  {
   "cell_type": "markdown",
   "metadata": {},
   "source": [
    "# Test"
   ]
  },
  {
   "cell_type": "markdown",
   "metadata": {},
   "source": [
    "\n",
    "=========================================================================================================================\n",
    "\n",
    "INPUT:\n",
    "Comment for July:\n",
    "1.) BAIS Ranger left position at beginning of the month. 2.) MIIN has had broken HVAC/air conditioning since June. Idaho has seen record number of days at temps of high 90s-100s; prolonged heat wave has resulted in MIIN Visitor Center closing 3 to 4.5 hours early to mitigate heat exhaustion amongst staff and visitors. 3.) Yellowstone temporarily closed due to severe flooding and, even after reopening, has seen decreased visitation due to cancelled travel plans or potential visitors not knowing that the park is open. A significant portion of MIIN visitation comes from the traffic between YELL and the Pacific Northwest, so MIIN visitation may have similarly decreased. 4.) A large portion of MIIN visitors are semi/retired RV travelers; MIIN visitation may have decreased due to high cost of gas throughout the summer (national average $5.00+).  BAIS -- Estimated with a 10% decrease from July BAIS FY22 assumed from the lack of BAIS Ranger during the month of July. Bainbridge Island Japanese American Exclusion Memorial people counters have been broken since 03/2021. MIIN staff based out of Idaho and not able to easily make fixes to BAIS in WA state. The memorial is collectively cared for by the Bainbridge Island Japanese American Exclusion Memorial Association, the Bainbridge Island Japanese American Community, the Bainbridge Island Historical Museum, Bainbridge Island Parks & Recreation District and the Klondike Gold Rush National Historical Park - Seattle.\n",
    "\n",
    "=========================================================================================================================\n",
    "\n",
    "OUTPUT:\n",
    "July: MIIN Visitor Center closed 3 to 4.5 hours early due to heat exhaustion; Yellowstone temporarily closed due to severe flooding; MIIN visitation may have decreased due to high cost of gas and cancelled travel plans."
   ]
  }
 ],
 "metadata": {
  "kernelspec": {
   "display_name": "main",
   "language": "python",
   "name": "python3"
  },
  "language_info": {
   "codemirror_mode": {
    "name": "ipython",
    "version": 3
   },
   "file_extension": ".py",
   "mimetype": "text/x-python",
   "name": "python",
   "nbconvert_exporter": "python",
   "pygments_lexer": "ipython3",
   "version": "3.11.5"
  }
 },
 "nbformat": 4,
 "nbformat_minor": 2
}
