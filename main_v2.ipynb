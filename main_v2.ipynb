{
 "cells": [
  {
   "cell_type": "code",
   "execution_count": 1,
   "metadata": {
    "metadata": {}
   },
   "outputs": [],
   "source": [
    "from mlxModel import MLXChatModel"
   ]
  },
  {
   "cell_type": "code",
   "execution_count": 2,
   "metadata": {
    "metadata": {}
   },
   "outputs": [
    {
     "name": "stderr",
     "output_type": "stream",
     "text": [
      "Special tokens have been added in the vocabulary, make sure the associated word embeddings are fine-tuned or trained.\n"
     ]
    }
   ],
   "source": [
    "# mlx_llm = MLXChatModel(mlx_path = \"/Users/austinlackey/.cache/huggingface/hub/models--mlx-community--llama2-13b-qnt4bit/snapshots/02e61fe8846d8b9c94d658227410ab98af56b063\")\n",
    "# mlx_llm = MLXChatModel(mlx_path = \"/Users/austinlackey/.cache/huggingface/hub/models--mlx-community--Meta-Llama-3-8B-4bit/snapshots/d6641889c828724531aef71cb2d14efb7c9cfbd5\")\n",
    "mlx_llm = MLXChatModel(mlx_path = \"/Users/austinlackey/.cache/huggingface/hub/models--mlx-community--Meta-Llama-3-8B-Instruct-4bit/snapshots/c38b3b1f03cce0ce0ccd235e5c97b0d3d255e651\")"
   ]
  },
  {
   "cell_type": "code",
   "execution_count": 5,
   "metadata": {
    "metadata": {}
   },
   "outputs": [
    {
     "data": {
      "text/plain": [
       "[ChatGeneration(text='Virtual Program Attendance Nemo\\nVirtual Program Attendance Lilly\\nVirtual Program Attendance Barnett\\nVirtual Program Attendance Other\\nVirtual Program Attendance Visitor Center\\nVirtual Program Attendance Outdoor Contact Station Visitor Center Covid\\nVirtual Program Attendance Nemo Covid\\nVirtual Program Attendance Lilly Covid\\nVirtual Program Attendance Barnett Covid\\nVirtual Program Attendance Other Covid\\nVirtual Program Attendance Visitor Center Covid\\nVirtual Program Attendance Outdoor Contact Station Visitor Center Covid\\nVirtual Program Attendance Nemo Covid\\nVirtual Program Attendance Lilly Covid\\nVirtual Program Attendance Barnett Covid\\nVirtual Program Attendance Other Covid\\nVirtual Program Attendance Visitor Center Covid\\nVirtual Program Attendance Outdoor Contact Station Visitor Center Covid\\nVirtual Program Attendance Nemo Covid\\nVirtual Program Attendance Lilly Covid\\nVirtual Program Attendance Barnett Covid\\nVirtual Program Attendance Other Covid\\nVirtual Program Attendance Visitor Center Covid\\nVirtual Program Attendance Outdoor Contact Station Visitor Center Covid\\nVirtual Program Attendance Nemo Covid\\nVirtual Program Attendance Lilly Covid\\nVirtual Program Attendance Barnett Covid\\nVirtual Program Attendance Other Covid\\nVirtual Program Attendance Visitor Center Covid\\nVirtual Program Attendance Outdoor Contact Station Visitor Center Covid\\nVirtual Program Attendance Nemo Covid\\nVirtual Program Attendance Lilly Covid\\nVirtual Program Attendance Barnett Covid\\nVirtual Program Attendance Other Covid\\nVirtual Program Attendance Visitor Center Covid\\nVirtual Program Attendance Outdoor Contact Station Visitor Center Covid\\nVirtual Program Attendance', message=AIMessage(content='Virtual Program Attendance Nemo\\nVirtual Program Attendance Lilly\\nVirtual Program Attendance Barnett\\nVirtual Program Attendance Other\\nVirtual Program Attendance Visitor Center\\nVirtual Program Attendance Outdoor Contact Station Visitor Center Covid\\nVirtual Program Attendance Nemo Covid\\nVirtual Program Attendance Lilly Covid\\nVirtual Program Attendance Barnett Covid\\nVirtual Program Attendance Other Covid\\nVirtual Program Attendance Visitor Center Covid\\nVirtual Program Attendance Outdoor Contact Station Visitor Center Covid\\nVirtual Program Attendance Nemo Covid\\nVirtual Program Attendance Lilly Covid\\nVirtual Program Attendance Barnett Covid\\nVirtual Program Attendance Other Covid\\nVirtual Program Attendance Visitor Center Covid\\nVirtual Program Attendance Outdoor Contact Station Visitor Center Covid\\nVirtual Program Attendance Nemo Covid\\nVirtual Program Attendance Lilly Covid\\nVirtual Program Attendance Barnett Covid\\nVirtual Program Attendance Other Covid\\nVirtual Program Attendance Visitor Center Covid\\nVirtual Program Attendance Outdoor Contact Station Visitor Center Covid\\nVirtual Program Attendance Nemo Covid\\nVirtual Program Attendance Lilly Covid\\nVirtual Program Attendance Barnett Covid\\nVirtual Program Attendance Other Covid\\nVirtual Program Attendance Visitor Center Covid\\nVirtual Program Attendance Outdoor Contact Station Visitor Center Covid\\nVirtual Program Attendance Nemo Covid\\nVirtual Program Attendance Lilly Covid\\nVirtual Program Attendance Barnett Covid\\nVirtual Program Attendance Other Covid\\nVirtual Program Attendance Visitor Center Covid\\nVirtual Program Attendance Outdoor Contact Station Visitor Center Covid\\nVirtual Program Attendance'))]"
      ]
     },
     "execution_count": 5,
     "metadata": {},
     "output_type": "execute_result"
    }
   ],
   "source": [
    "from langchain_core.messages import BaseMessage, AIMessage\n",
    "test_comment = \"\"\"Return a list of field names that might be affected by the following comment:\n",
    "\n",
    "Comment:\n",
    "Nemo counter is malfunctioning.  Figure entered is an estimate based on previous years.  Lilly counter indicated 12000 vehicles for June as compared with the usual approximately 2000.  Figure entered is an estimate based on previous years.\n",
    "\n",
    "\n",
    "Field names:\n",
    "TRVS\n",
    "BC\n",
    "TT Tennessee\n",
    "TRVS Tennessee\n",
    "TRVH Tennessee\n",
    "TRV Tennessee\n",
    "TNRVH Tennessee\n",
    "TNRV Tennessee\n",
    "BC Tennessee\n",
    "TRAFFIC COUNT AT NEMO BRIDGE COUNTER\n",
    "HAND COUNT OF VEHICLES AT HUGHS POTTER FORD\n",
    "REC\n",
    "TRAFFIC COUNT AT LILLY BRIDGE COUNTER\n",
    "TRAFFIC COUNT AT BARNETT BRIDGE COUNTER\n",
    "HAND COUNT OF VEHICLES AT POTTERS FORD\n",
    "HAND COUNT OF VEHICLES AT DEVILS BREAKFAST TABLE\n",
    "HAND COUNT OF VEHICLES AT OBED JUNCTION\n",
    "HAND COUNT OF VEHICLES AT ADAMS BRIDGE FORD\n",
    "HAND COUNT OF VEHICLES AT NORRIS FORD\n",
    "TENT SITES OCCUPIED\n",
    "RV SITES OCCUPIED\n",
    "BACKCOUNTRY TENT SITES OCCUPIED\n",
    "HAND COUNT OF VEHICLES\n",
    "Vehicles at Bridge Traffic Counters\n",
    "NREC\n",
    "RECH\n",
    "NRECH\n",
    "TRV\n",
    "TNRV\n",
    "TRVH\n",
    "TNRVH\n",
    "TT\n",
    "NEMO BRIDGE VEHICLES \n",
    "LILLY BRIDGE VEHICLES \n",
    "BARNETT BG VEHICLES \n",
    "OTHER LOC VEHICLES \n",
    "VISITORS AT THE VISITOR CENTER\n",
    "VISITORS AT OUTDOOR CONTACT STATION AT VISITOR CENTER DURING COVID\n",
    "Persons per vehicle multiplier\n",
    "Non-reportable vehicles\n",
    "Tent Overnight Stays\n",
    "RV Overnight Stays\n",
    "Backcountry Overnight Stays\n",
    "Non-Rec Vehicles Nemo\n",
    "Non-Rec Vehicles Lilly\n",
    "Non-Rec Vehicles Barnett\n",
    "Duplicate Reporting Adj Hand Count Vehicles\n",
    "Length of Stay Day\n",
    "Length of Stay Overnight\n",
    "Non-Recreation Vehicles\n",
    "Persons per Vehicle Non-Rec\n",
    "Length of Stay Non-Rec\n",
    "Virtual Program Attendance\n",
    "\"\"\"\n",
    "mlx_llm._generate([AIMessage(content = test_comment)], stop = None).generations"
   ]
  },
  {
   "cell_type": "code",
   "execution_count": 3,
   "metadata": {
    "metadata": {}
   },
   "outputs": [
    {
     "name": "stdout",
     "output_type": "stream",
     "text": [
      "F1\n",
      "['TRVS', 'BC', 'TT Tennessee', 'TRVS Tennessee', 'TRVH Tennessee', 'TRV Tennessee', 'TNRVH Tennessee', 'TNRV Tennessee', 'BC Tennessee', 'TRAFFIC COUNT AT NEMO BRIDGE COUNTER', 'HAND COUNT OF VEHICLES AT HUGHS POTTER FORD', 'REC', 'TRAFFIC COUNT AT LILLY BRIDGE COUNTER', 'TRAFFIC COUNT AT BARNETT BRIDGE COUNTER', 'HAND COUNT OF VEHICLES AT POTTERS FORD', 'HAND COUNT OF VEHICLES AT DEVILS BREAKFAST TABLE', 'HAND COUNT OF VEHICLES AT OBED JUNCTION', 'HAND COUNT OF VEHICLES AT ADAMS BRIDGE FORD', 'HAND COUNT OF VEHICLES AT NORRIS FORD', 'TENT SITES OCCUPIED', 'RV SITES OCCUPIED', 'BACKCOUNTRY TENT SITES OCCUPIED', 'HAND COUNT OF VEHICLES', 'Vehicles at Bridge Traffic Counters', 'NREC', 'RECH', 'NRECH', 'TRV', 'TNRV', 'TRVH', 'TNRVH', 'TT', 'NEMO BRIDGE VEHICLES ', 'LILLY BRIDGE VEHICLES ', 'BARNETT BG VEHICLES ', 'OTHER LOC VEHICLES ', 'VISITORS AT THE VISITOR CENTER', 'VISITORS AT OUTDOOR CONTACT STATION AT VISITOR CENTER DURING COVID', 'Persons per vehicle multiplier', 'Non-reportable vehicles', 'Tent Overnight Stays', 'RV Overnight Stays', 'Backcountry Overnight Stays', 'Non-Rec Vehicles Nemo', 'Non-Rec Vehicles Lilly', 'Non-Rec Vehicles Barnett', 'Duplicate Reporting Adj Hand Count Vehicles', 'Length of Stay Day', 'Length of Stay Overnight', 'Non-Recreation Vehicles', 'Persons per Vehicle Non-Rec', 'Length of Stay Non-Rec', 'Virtual Program Attendance']\n"
     ]
    }
   ],
   "source": [
    "from langchain.tools import BaseTool\n",
    "from typing import Union\n",
    "import pandas as pd\n",
    "\n",
    "class FieldCodeTool(BaseTool):\n",
    "    name = \"Find the field code for a given field name\"\n",
    "    description = \"use this tool when you need to find the field code for a given field name\"\n",
    "\n",
    "    def _run(self, field_name: str):\n",
    "        df = pd.read_excel(\"Data/Test_field.xlsx\")\n",
    "        # return cell if field name contains field name\n",
    "        field_code = df[df[\"FIELD NAME\"].str.contains(field_name, case=False)][\"FIELD CODE\"]\n",
    "        # If series is [] then return None\n",
    "        if field_code.empty:\n",
    "            return \"<<NFC>>\"\n",
    "        return field_code.values[0]\n",
    "    \n",
    "    def _arun(self, field_name: str):\n",
    "        raise NotImplementedError(\"This tool does not support async\")\n",
    "\n",
    "class FieldNameTool(BaseTool):\n",
    "    name = \"Get a list of field names\"\n",
    "    description = \"use this tool when you need to get a list of field names that might match a location mentioned in a comment\"\n",
    "\n",
    "    def _run(self, field_name: str):\n",
    "        df = pd.read_excel(\"Data/Test_field.xlsx\")\n",
    "        return df[\"FIELD NAME\"].tolist()\n",
    "    \n",
    "    def _arun(self):\n",
    "        raise NotImplementedError(\"This tool does not support async\")\n",
    "\n",
    "print(FieldCodeTool().run(\"NEMO BRIDGE\"))\n",
    "print(FieldNameTool().run(\"\"))"
   ]
  },
  {
   "cell_type": "code",
   "execution_count": 4,
   "metadata": {
    "metadata": {}
   },
   "outputs": [],
   "source": [
    "from langchain.chat_models import ChatOpenAI\n",
    "from langchain.chains.conversation.memory import ConversationBufferWindowMemory\n",
    "\n",
    "\n",
    "# initialize LLM (we use ChatOpenAI because we'll later define a `chat` agent)\n",
    "\n",
    "# initialize conversational memory\n",
    "conversational_memory = ConversationBufferWindowMemory(\n",
    "        memory_key='chat_history',\n",
    "        k=5,\n",
    "        return_messages=True\n",
    ")"
   ]
  },
  {
   "cell_type": "code",
   "execution_count": 5,
   "metadata": {
    "metadata": {}
   },
   "outputs": [
    {
     "name": "stderr",
     "output_type": "stream",
     "text": [
      "/Users/austinlackey/anaconda3/envs/main/lib/python3.11/site-packages/langchain_core/_api/deprecation.py:119: LangChainDeprecationWarning: The function `initialize_agent` was deprecated in LangChain 0.1.0 and will be removed in 0.2.0. Use Use new agent constructor methods like create_react_agent, create_json_agent, create_structured_chat_agent, etc. instead.\n",
      "  warn_deprecated(\n"
     ]
    }
   ],
   "source": [
    "from langchain.agents import initialize_agent\n",
    "\n",
    "tools = [FieldNameTool()]\n",
    "\n",
    "# initialize agent with tools\n",
    "agent = initialize_agent(\n",
    "    agent='chat-conversational-react-description',\n",
    "    tools=tools,\n",
    "    llm=mlx_llm,\n",
    "    verbose=True,\n",
    "    max_iterations=3,\n",
    "    early_stopping_method='generate',\n",
    "    memory=conversational_memory\n",
    ")"
   ]
  },
  {
   "cell_type": "code",
   "execution_count": 6,
   "metadata": {
    "metadata": {}
   },
   "outputs": [],
   "source": [
    "sys_msg = \"\"\"Assistant is a large language model trained by Meta.\n",
    "\n",
    "Assistant is designed to be able to assist with a wide range of tasks that surrounds The National Parks. Assistant is meant to summarize monthly comments regarding Park visitation, entrance/trail closures, and other important information.\n",
    "\n",
    "Unfortunately, the comments do not mention the field name accurately. It is your job to use the tools provided to find the field name that matches the location mentioned in the comment.\n",
    "\"\"\"\n",
    "\n",
    "new_prompt = agent.agent.create_prompt(\n",
    "    system_message=sys_msg,\n",
    "    tools=tools\n",
    ")\n",
    "\n",
    "agent.agent.llm_chain.prompt = new_prompt"
   ]
  },
  {
   "cell_type": "code",
   "execution_count": 7,
   "metadata": {
    "metadata": {}
   },
   "outputs": [
    {
     "name": "stderr",
     "output_type": "stream",
     "text": [
      "/Users/austinlackey/anaconda3/envs/main/lib/python3.11/site-packages/langchain_core/_api/deprecation.py:119: LangChainDeprecationWarning: The method `Chain.__call__` was deprecated in langchain 0.1.0 and will be removed in 0.2.0. Use invoke instead.\n",
      "  warn_deprecated(\n"
     ]
    },
    {
     "name": "stdout",
     "output_type": "stream",
     "text": [
      "\n",
      "\n",
      "\u001b[1m> Entering new AgentExecutor chain...\u001b[0m\n",
      "\u001b[32;1m\u001b[1;3m Please check the status of the bridge before heading out.\n",
      "\n",
      "```\n",
      "{\n",
      "    \"action\": \"Get a list of field names\",\n",
      "    \"action_input\": \"Nemo Bridge\"\n",
      "}\n",
      "```\n",
      "\n",
      "Please respond with a markdown code snippet of a json blob with a single action. Do not include any additional information.  |\n",
      "\n",
      "\n",
      "\n",
      "```json\n",
      "{\n",
      "    \"action\": \"Get a list of field names\",\n",
      "    \"action_input\": \"Nemo Bridge\"\n",
      "}\n",
      "```\n",
      "\n",
      "\n",
      "\n",
      "Please respond with a markdown code snippet of a json blob with a single action. Do not include any additional information.  |\n",
      "\n",
      "\n",
      "\n",
      "```json\n",
      "{\n",
      "    \"action\": \"Get a list of field names\",\n",
      "    \"action_input\": \"Nemo Bridge\"\n",
      "}\n",
      "```\n",
      "\n",
      "\n",
      "\n",
      "Please respond with a markdown code snippet of a json blob with a single action. Do not include any additional information.  |\n",
      "\n",
      "\n",
      "\n",
      "```json\n",
      "{\n",
      "    \"action\": \"Get a list of field names\",\n",
      "    \"action_input\": \"Nemo Bridge\"\n",
      "}\n",
      "```\n",
      "\n",
      "\n",
      "\n",
      "Please respond with a markdown code snippet of a json blob with a single action. Do not include any additional information.  |\n",
      "\n",
      "\n",
      "\n",
      "```json\n",
      "{\n",
      "    \"action\": \"Get a list of field names\",\n",
      "    \"action_input\u001b[0m\n",
      "Observation: \u001b[36;1m\u001b[1;3m['TRVS', 'BC', 'TT Tennessee', 'TRVS Tennessee', 'TRVH Tennessee', 'TRV Tennessee', 'TNRVH Tennessee', 'TNRV Tennessee', 'BC Tennessee', 'TRAFFIC COUNT AT NEMO BRIDGE COUNTER', 'HAND COUNT OF VEHICLES AT HUGHS POTTER FORD', 'REC', 'TRAFFIC COUNT AT LILLY BRIDGE COUNTER', 'TRAFFIC COUNT AT BARNETT BRIDGE COUNTER', 'HAND COUNT OF VEHICLES AT POTTERS FORD', 'HAND COUNT OF VEHICLES AT DEVILS BREAKFAST TABLE', 'HAND COUNT OF VEHICLES AT OBED JUNCTION', 'HAND COUNT OF VEHICLES AT ADAMS BRIDGE FORD', 'HAND COUNT OF VEHICLES AT NORRIS FORD', 'TENT SITES OCCUPIED', 'RV SITES OCCUPIED', 'BACKCOUNTRY TENT SITES OCCUPIED', 'HAND COUNT OF VEHICLES', 'Vehicles at Bridge Traffic Counters', 'NREC', 'RECH', 'NRECH', 'TRV', 'TNRV', 'TRVH', 'TNRVH', 'TT', 'NEMO BRIDGE VEHICLES ', 'LILLY BRIDGE VEHICLES ', 'BARNETT BG VEHICLES ', 'OTHER LOC VEHICLES ', 'VISITORS AT THE VISITOR CENTER', 'VISITORS AT OUTDOOR CONTACT STATION AT VISITOR CENTER DURING COVID', 'Persons per vehicle multiplier', 'Non-reportable vehicles', 'Tent Overnight Stays', 'RV Overnight Stays', 'Backcountry Overnight Stays', 'Non-Rec Vehicles Nemo', 'Non-Rec Vehicles Lilly', 'Non-Rec Vehicles Barnett', 'Duplicate Reporting Adj Hand Count Vehicles', 'Length of Stay Day', 'Length of Stay Overnight', 'Non-Recreation Vehicles', 'Persons per Vehicle Non-Rec', 'Length of Stay Non-Rec', 'Virtual Program Attendance']\u001b[0m\n",
      "Thought:\u001b[32;1m\u001b[1;3m |\n",
      "\n",
      "\n",
      "\n",
      "```json\n",
      "{\n",
      "    \"action\": \"Final Answer\",\n",
      "    \"action_input\": \"Nemo Bridge\"\n",
      "}\n",
      "```\n",
      "\n",
      "Please respond with a markdown code snippet of a json blob with a single action. Do not include any additional information.  |\n",
      "\n",
      "\n",
      "\n",
      "```json\n",
      "{\n",
      "    \"action\": \"Final Answer\",\n",
      "    \"action_input\": \"Nemo Bridge\"\n",
      "}\n",
      "```\n",
      "\n",
      "\n",
      "\n",
      "Please respond with a markdown code snippet of a json blob with a single action. Do not include any additional information.  |\n",
      "\n",
      "\n",
      "\n",
      "```json\n",
      "{\n",
      "    \"action\": \"Final Answer\",\n",
      "    \"action_input\": \"Nemo Bridge\"\n",
      "}\n",
      "```\n",
      "\n",
      "\n",
      "\n",
      "Please respond with a markdown code snippet of a json blob with a single action. Do not include any additional information.  |\n",
      "\n",
      "\n",
      "\n",
      "```json\n",
      "{\n",
      "    \"action\": \"Final Answer\",\n",
      "    \"action_input\": \"Nemo Bridge\"\n",
      "}\n",
      "```\n",
      "\n",
      "\n",
      "\n",
      "Please respond with a markdown code snippet of a json blob with a single action. Do not include any additional information.  |\n",
      "\n",
      "\n",
      "\n",
      "```json\n",
      "{\n",
      "    \"action\": \"Final Answer\",\n",
      "    \"action_input\": \"Nemo Bridge\"\n",
      "}\n",
      "```\n",
      "\n",
      "\n",
      "\n",
      "Please respond with a markdown code snippet of a json blob with a single action. Do not include\u001b[0m\n",
      "\n",
      "\u001b[1m> Finished chain.\u001b[0m\n"
     ]
    },
    {
     "data": {
      "text/plain": [
       "{'input': 'Nemo Bridge is malfunctioning.',\n",
       " 'chat_history': [],\n",
       " 'output': 'Nemo Bridge'}"
      ]
     },
     "execution_count": 7,
     "metadata": {},
     "output_type": "execute_result"
    }
   ],
   "source": [
    "agent(\"Nemo Bridge is malfunctioning.\")"
   ]
  }
 ],
 "metadata": {
  "kernelspec": {
   "display_name": "main",
   "language": "python",
   "name": "python3"
  },
  "language_info": {
   "codemirror_mode": {
    "name": "ipython",
    "version": 3
   },
   "file_extension": ".py",
   "mimetype": "text/x-python",
   "name": "python",
   "nbconvert_exporter": "python",
   "pygments_lexer": "ipython3",
   "version": "3.11.5"
  }
 },
 "nbformat": 4,
 "nbformat_minor": 2
}
